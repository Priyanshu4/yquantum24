{
 "cells": [
  {
   "cell_type": "code",
   "execution_count": 212,
   "id": "bff1fce3-f153-4767-a5bc-835427261a75",
   "metadata": {
    "tags": []
   },
   "outputs": [],
   "source": [
    "from bloqade import var, save, load\n",
    "from bloqade.atom_arrangement import Square\n",
    "import matplotlib.pyplot as plt\n",
    "import numpy as np\n",
    "import os\n",
    "import datetime\n",
    "from pathlib import Path\n",
    "import json\n",
    "import math\n"
   ]
  },
  {
   "cell_type": "code",
   "execution_count": 213,
   "id": "9609954c-af1d-4a75-82a2-af2523874396",
   "metadata": {
    "tags": []
   },
   "outputs": [
    {
     "name": "stdout",
     "output_type": "stream",
     "text": [
      "Results will be stored in: c:\\Users\\agpri\\OneDrive\\Documents\\GitHub\\yquantum24\\experiments\\square\\2024-04-14_06-08-27\n"
     ]
    }
   ],
   "source": [
    "experiments_dir = Path.cwd() / \"experiments\" / \"square\"\n",
    "if not experiments_dir.is_dir():\n",
    "    experiments_dir.mkdir()\n",
    "\n",
    "timestamp = datetime.datetime.now().strftime(\"%Y-%m-%d_%H-%M-%S\")\n",
    "result_dir = experiments_dir / timestamp\n",
    "result_dir.mkdir()\n",
    "\n",
    "print(f\"Results will be stored in: {result_dir}\")"
   ]
  },
  {
   "cell_type": "code",
   "execution_count": 214,
   "id": "f2a5ccc6-0ea0-4aa3-8a71-a83f8cce4257",
   "metadata": {
    "tags": []
   },
   "outputs": [],
   "source": [
    "# Set basic parameters here\n",
    "n_atom_side_length = 2\n",
    "lattice_spacing = 7.2\n",
    "shots = 100\n",
    "\n",
    "# Parameters for times to take measurements\n",
    "# np.arange(start, end, step)   \n",
    "\n",
    "prep_times = np.arange(0.2, 2.2, 0.1)\n",
    "scar_times = np.arange(2.2, 3, 0.05)\n",
    "run_times = np.unique(np.hstack((prep_times, scar_times)))\n",
    "\n",
    "run_time = var(\"run_time\")"
   ]
  },
  {
   "cell_type": "code",
   "execution_count": 215,
   "id": "1058d979",
   "metadata": {},
   "outputs": [
    {
     "name": "stdout",
     "output_type": "stream",
     "text": [
      "r_b: 8.919053362520408\n",
      "omega: 10.767677965119113\n",
      "delta: 16\n"
     ]
    }
   ],
   "source": [
    "# Calculate r_b and omega\n",
    "r_minor = lattice_spacing\n",
    "r_major = lattice_spacing * math.sqrt(2)\n",
    "\n",
    "# Calculate r_b\n",
    "r_b = math.sqrt(r_minor * r_major)\n",
    "\n",
    "# Calculate omega\n",
    "C6 = 862690 * 2 * math.pi\n",
    "omega = C6/r_b**6\n",
    "\n",
    "delta = 16\n",
    "\n",
    "print(f\"r_b: {r_b}\")\n",
    "print(f\"omega: {omega}\")\n",
    "print(f\"delta: {delta}\")\n",
    "\n",
    "if omega > 2*math.pi*2.5:\n",
    "    print(\"Omega is too large for the hardware\")"
   ]
  },
  {
   "cell_type": "code",
   "execution_count": 216,
   "id": "ab58533b-27f4-4592-b45d-fef08d2e8363",
   "metadata": {
    "tags": []
   },
   "outputs": [],
   "source": [
    "quantum_scar_program = (\n",
    "    Square(n_atom_side_length, lattice_spacing=lattice_spacing)\n",
    "    # define detuning waveform\n",
    "    .rydberg.detuning.uniform.piecewise_linear(\n",
    "        [0.3, 1.6, 0.3], [-18.8, -18.8, delta, delta]\n",
    "    )\n",
    "    .piecewise_linear([0.2, 1.6], [delta, 0.0, 0.0])\n",
    "    # slice the detuning waveform\n",
    "    .slice(start=0, stop=run_time)\n",
    "    # define rabi waveform\n",
    "    .amplitude.uniform.piecewise_linear([0.3, 1.6, 0.3], [0.0, omega, omega, 0.0])\n",
    "    .piecewise_linear([0.2, 1.4, 0.2], [0, omega, omega, 0])\n",
    "    # slice waveform, add padding for the linear segment\n",
    "    .slice(start=0, stop=run_time - 0.065)\n",
    "    # record the value of the waveform at the end of the slice to \"rabi_value\"\n",
    "    .record(\"rabi_value\")\n",
    "    # append segment to waveform that fixes the value of the waveform to 0\n",
    "    # at the end of the waveform\n",
    "    .linear(\"rabi_value\", 0, 0.065)\n",
    ")"
   ]
  },
  {
   "cell_type": "code",
   "execution_count": 217,
   "id": "e21e68bc-1ca2-4270-a6c6-8c554216b963",
   "metadata": {
    "tags": []
   },
   "outputs": [],
   "source": [
    "batch = quantum_scar_program.batch_assign(run_time=run_times)"
   ]
  },
  {
   "cell_type": "code",
   "execution_count": 218,
   "id": "0dcdcadc-7976-430f-9a8b-38ee9224feef",
   "metadata": {
    "tags": []
   },
   "outputs": [],
   "source": [
    "# ## Run on Emulator and Hardware\n",
    "# We will run the experiment on the emulator and hardware, saving the results to disk\n",
    "# so that we can plot them later. for more details on where these lines of code come\n",
    "# from, see the first few tutorials.\n",
    "\n",
    "emulator_filename = str(result_dir / \"emulator_results.json\")\n",
    "\n",
    "if not os.path.isfile(emulator_filename):\n",
    "    emu_batch = batch.bloqade.python().run(shots, interaction_picture=True)\n",
    "    save(emu_batch, emulator_filename)\n"
   ]
  },
  {
   "cell_type": "code",
   "execution_count": 219,
   "id": "b8b3afbf-d8ee-4a82-b20c-9622b4b97703",
   "metadata": {},
   "outputs": [],
   "source": [
    "# %% [markdown]\n",
    "# ## Plotting the results\n",
    "# The quantity we are interested in is the probability of the atoms being in the Z2\n",
    "# state. We can get this by looking at the counts of the Z2 state in the report\n",
    "# Below we define a function that will get the probability of the Z2 state for each\n",
    "# time step in the experiment.\n",
    "\n",
    "emu_batch = load(emulator_filename)"
   ]
  },
  {
   "cell_type": "code",
   "execution_count": 220,
   "id": "f74cfcd5-62f2-40c9-b4e1-7a2424bb2587",
   "metadata": {},
   "outputs": [
    {
     "name": "stdout",
     "output_type": "stream",
     "text": [
      "Z2 State:  0101\n",
      "Z2 Prime State:  1010\n"
     ]
    }
   ],
   "source": [
    "# Generate Z2 and Z2 prime states\n",
    "\n",
    "def generate_state_string(n_bits, first_bit_state: str):\n",
    "    \"\"\" Generates a string of 1s and 0s indicating the state of n alternating bits.\n",
    "        The first bit is the first bit of the string.\n",
    "    \"\"\"\n",
    "    state = first_bit_state\n",
    "    for i in range(n_bits - 1):\n",
    "        if state[-1] == \"0\":\n",
    "            state += \"1\"\n",
    "        else:\n",
    "            state += \"0\"\n",
    "    return state\n",
    "\n",
    "\n",
    "Z2_STATE = generate_state_string(n_atom_side_length**2, \"0\")\n",
    "Z2_PRIME_STATE = generate_state_string(n_atom_side_length**2, \"1\")\n",
    "\n",
    "print(\"Z2 State: \", Z2_STATE)\n",
    "print(\"Z2 Prime State: \", Z2_PRIME_STATE)\n",
    "\n",
    "\n"
   ]
  },
  {
   "cell_type": "code",
   "execution_count": 221,
   "id": "72b787b6",
   "metadata": {},
   "outputs": [],
   "source": [
    "def get_z2_probabilities(report):\n",
    "    z2_probabilities = []\n",
    "\n",
    "    for count in report.counts():\n",
    "        z2_probability = count.get(Z2_STATE, 0) / sum(list(count.values())) # origional state 01010101010\n",
    "        z2_probabilities.append(z2_probability)\n",
    "\n",
    "    return z2_probabilities\n",
    "\n",
    "def get_z2_prime(report):\n",
    "    z2_primes = []\n",
    "\n",
    "    for count in report.counts():\n",
    "        z2_prime = count.get(Z2_PRIME_STATE, 0) / sum(list(count.values())) # inverted state 10101010101\n",
    "        z2_primes.append(z2_prime)\n",
    "\n",
    "    return z2_primes"
   ]
  },
  {
   "cell_type": "code",
   "execution_count": 222,
   "id": "f2698800-8356-42d6-831b-8b632655a955",
   "metadata": {
    "tags": []
   },
   "outputs": [],
   "source": [
    "emu_report = emu_batch.report()"
   ]
  },
  {
   "cell_type": "code",
   "execution_count": 223,
   "id": "33440377-5b60-43ff-a15e-f0b6951ce3fd",
   "metadata": {},
   "outputs": [],
   "source": [
    "emu_run_times = emu_report.list_param(\"run_time\")\n",
    "emu_z2_prob = get_z2_probabilities(emu_report)\n",
    "emu_z2_prime = get_z2_prime(emu_report)"
   ]
  },
  {
   "cell_type": "code",
   "execution_count": 224,
   "id": "61f2a688",
   "metadata": {},
   "outputs": [],
   "source": [
    "# Save parameters of experiments to file\n",
    "experiment_parameters = {\n",
    "    \"shape\": \"square\",\n",
    "    \"n_atom_side_length\": n_atom_side_length,\n",
    "    \"lattice_spacing\": lattice_spacing,\n",
    "    \"shots\": shots,\n",
    "}\n",
    "\n",
    "parameters_file_path = result_dir / \"parameters.json\"\n",
    "with open(parameters_file_path, \"w\") as json_file:\n",
    "    json.dump(experiment_parameters, json_file)"
   ]
  },
  {
   "cell_type": "code",
   "execution_count": 225,
   "id": "1c4f0263-ee62-4c57-a3f2-86928043bd2a",
   "metadata": {},
   "outputs": [
    {
     "name": "stderr",
     "output_type": "stream",
     "text": [
      "<>:8: SyntaxWarning: invalid escape sequence '\\m'\n",
      "<>:8: SyntaxWarning: invalid escape sequence '\\m'\n",
      "C:\\Users\\agpri\\AppData\\Local\\Temp\\ipykernel_10476\\2591976817.py:8: SyntaxWarning: invalid escape sequence '\\m'\n",
      "  plt.xlabel(\"Time ($\\mu s$)\")\n"
     ]
    },
    {
     "data": {
      "image/png": "[encoded data removed]",
      "text/plain": [
       "<Figure size 640x480 with 1 Axes>"
      ]
     },
     "metadata": {},
     "output_type": "display_data"
    }
   ],
   "source": [
    "plt.plot(emu_run_times, emu_z2_prob, label=\"Original State\", color=\"#078087\")\n",
    "plt.plot(emu_run_times, emu_z2_prime, label=\"Prime State\", color=\"#808787\")\n",
    "plt.legend()\n",
    "title = \"\"\n",
    "for key, value in experiment_parameters.items():\n",
    "    title += f\"{key}: {value}\\n\"\n",
    "plt.title(title)\n",
    "plt.xlabel(\"Time ($\\mu s$)\")\n",
    "plt.ylabel(\"Z2-state Probability\")\n",
    "\n",
    "plt.savefig(result_dir / \"plot.png\")\n",
    "plt.show()\n"
   ]
  }
 ],
 "metadata": {
  "kernelspec": {
   "display_name": "bloqade",
   "language": "python",
   "name": "python3"
  },
  "language_info": {
   "codemirror_mode": {
    "name": "ipython",
    "version": 3
   },
   "file_extension": ".py",
   "mimetype": "text/x-python",
   "name": "python",
   "nbconvert_exporter": "python",
   "pygments_lexer": "ipython3",
   "version": "3.12.2"
  }
 },
 "nbformat": 4,
 "nbformat_minor": 5
}
